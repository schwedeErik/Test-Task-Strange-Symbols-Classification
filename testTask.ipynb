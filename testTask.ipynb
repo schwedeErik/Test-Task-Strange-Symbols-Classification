{
 "cells": [
  {
   "cell_type": "markdown",
   "metadata": {},
   "source": [
    "# Strange Symbols Classification Task\n",
    "\n",
    "This notebook tackles the **Strange Symbols Classification** test task.\n",
    "\n",
    "## Dataset Analysis\n",
    "The first step involved analyzing the provided dataset to gain a better understanding of the data. Here’s what was done:  \n",
    "- Checked the **dimensionality** of the dataset.  \n",
    "- Visualized the provided grayscale images to understand their structure.\n",
    "\n",
    "### Key Findings\n",
    "- The dataset contains **15,000 grayscale images**, each of size **28x28 pixels**.  \n",
    "- Each image is assigned an **integer label** ranging from **0 to 14**, making this a **15-class classification problem**. \n"
   ]
  },
  {
   "cell_type": "code",
   "execution_count": 46,
   "metadata": {},
   "outputs": [
    {
     "name": "stdout",
     "output_type": "stream",
     "text": [
      "Image count: 15000\n",
      "Image Shape: torch.Size([28, 28])\n",
      "Lable type: <class 'int'>\n",
      "Distinct labels:\n",
      " {0, 1, 2, 3, 4, 5, 6, 7, 8, 9, 10, 11, 12, 13, 14}\n",
      "\n",
      "Image Examples:\n",
      "\n"
     ]
    },
    {
     "data": {
      "image/png": "[encoded data removed]",
      "text/plain": [
       "<Figure size 640x480 with 1 Axes>"
      ]
     },
     "metadata": {},
     "output_type": "display_data"
    },
    {
     "name": "stdout",
     "output_type": "stream",
     "text": [
      "Label: 8\n"
     ]
    },
    {
     "data": {
      "image/png": "[encoded data removed]",
      "text/plain": [
       "<Figure size 640x480 with 1 Axes>"
      ]
     },
     "metadata": {},
     "output_type": "display_data"
    },
    {
     "name": "stdout",
     "output_type": "stream",
     "text": [
      "Label: 0\n"
     ]
    }
   ],
   "source": [
    "import torch\n",
    "import matplotlib.pyplot as plt\n",
    "import os\n",
    "os.environ[\"KMP_DUPLICATE_LIB_OK\"] = \"TRUE\"\n",
    "\n",
    "training_data = torch.load('strange_symbols/training_data.pt')\n",
    "training_labels = torch.load('strange_symbols/training_labels.pt')\n",
    "\n",
    "print(f'Image count: {len(training_data)}')\n",
    "print(f'Image Shape: {training_data[0].shape}')\n",
    "print(f'Lable type: {type(training_labels[0])}')\n",
    "print(f'Distinct labels:\\n {set(training_labels)}\\n')\n",
    "\n",
    "print('Image Examples:\\n')\n",
    "for index in range(2):\n",
    "    plt.imshow(training_data[index].numpy(), cmap='gray')\n",
    "    plt.axis('off')\n",
    "    plt.show()\n",
    "    print(f'Label: {training_labels[index]}')\n",
    "    \n",
    "\n"
   ]
  },
  {
   "cell_type": "markdown",
   "metadata": {},
   "source": [
    "## The `CustomTensorDataset` Class\n",
    "\n",
    "The `CustomTensorDataset` class is designed to format the input data, making it compatible with the **`Conv2d` layers** in PyTorch.  \n",
    "\n",
    "### Key Features\n",
    "- **Data Normalization**: Converts 8-bit integer values into **float values** ranging between **0 and 1**.  \n",
    "- **Dimensionality Adjustment**: Adds an additional dimension to the data, as required by the **`Conv2d` layers**."
   ]
  },
  {
   "cell_type": "code",
   "execution_count": 47,
   "metadata": {},
   "outputs": [],
   "source": [
    "from torch.utils.data import Dataset, DataLoader, Subset\n",
    "\n",
    "# Custom Dataset class to handle the .pt files\n",
    "class CustomTensorDataset(Dataset):\n",
    "    def __init__(self, data, labels):\n",
    "        self.data = data.float() / 255.0\n",
    "        self.data = self.data.unsqueeze(1)\n",
    "        self.labels = labels\n",
    "\n",
    "    def __len__(self):\n",
    "        return len(self.data)\n",
    "\n",
    "    def __getitem__(self, idx):\n",
    "        x = self.data[idx]\n",
    "        if self.labels is not None:\n",
    "            y = self.labels[idx]\n",
    "            return x, y\n",
    "        else:\n",
    "            return x\n",
    "        \n",
    "\n",
    "# Instantiate datasets and dataloaders\n",
    "train_dataset = CustomTensorDataset(training_data, training_labels)"
   ]
  },
  {
   "cell_type": "markdown",
   "metadata": {},
   "source": [
    "## The `SimpleCNN` Class\n",
    "\n",
    "The `SimpleCNN` class implements the neural network for this task.  \n",
    "\n",
    "### Why a CNN?\n",
    "Since we are working with image data, a **Convolutional Neural Network (CNN)** is a suitable choice. CNNs are effective in:  \n",
    "- Preserving **spatial information** in images.  \n",
    "- Extracting **relevant features** essential for classification.\n",
    "\n",
    "### Network Design\n",
    "- Due to the relatively small size of the dataset, the network includes **two convolutional layers**.  \n",
    "- During the forward pass:\n",
    "  - **ReLU activation function** is applied after each convolution.  \n",
    "  - **Max pooling** is used to reduce the size of the images and retain key features.  \n"
   ]
  },
  {
   "cell_type": "code",
   "execution_count": 48,
   "metadata": {},
   "outputs": [],
   "source": [
    "import torch.nn as nn\n",
    "import torch.nn.functional as F\n",
    "\n",
    "# Define a simple CNN for image classification\n",
    "class SimpleCNN(nn.Module):\n",
    "    def __init__(self):\n",
    "        super(SimpleCNN, self).__init__()\n",
    "        self.conv1 = nn.Conv2d(1, 16, kernel_size=3, padding=1)\n",
    "        self.conv2 = nn.Conv2d(16, 32, kernel_size=3, padding=1)\n",
    "        self.fc1 = nn.Linear(32 * 7 * 7, 128) \n",
    "        self.fc2 = nn.Linear(128, 15)  \n",
    "\n",
    "    def forward(self, x):\n",
    "        x = F.relu(self.conv1(x))\n",
    "        x = F.max_pool2d(x, 2)\n",
    "        x = F.relu(self.conv2(x))\n",
    "        x = F.max_pool2d(x, 2)\n",
    "        x = x.view(x.size(0), -1)  \n",
    "        x = F.relu(self.fc1(x))\n",
    "        x = self.fc2(x)\n",
    "        return x"
   ]
  },
  {
   "cell_type": "markdown",
   "metadata": {},
   "source": [
    "## Model Training: 5-Fold Cross-Validation\n",
    "\n",
    "To train the model, **5-fold cross-validation** is employed using the `StratifiedKFold` class from the **scikit-learn** library. This approach is particularly beneficial for classification tasks as it helps avoid biases by maintaining the proportion of classes in each fold.\n",
    "\n",
    "### Training Process\n",
    "- The model is trained **individually** for each split of the validation and training sets.  \n",
    "- **Batch size**: 32  \n",
    "- **Optimizer**: Adam (built into PyTorch).  \n",
    "- **Training progress**: Visualized using the `tqdm` library.\n",
    "\n",
    "### Epochs and Early Stopping\n",
    "- The model is trained for **5 epochs** (a hyperparameter that can be adjusted as needed).  \n",
    "- Optionally, an **early stopping** mechanism can be implemented to monitor losses and terminate training if losses rise beyond a certain threshold, helping to prevent overfitting.\n",
    "\n",
    "### Code Organization\n",
    "The training process is divided into three separate functions to:\n",
    "- Improve code readability.  \n",
    "- Avoid the complexity of nested loops.  "
   ]
  },
  {
   "cell_type": "code",
   "execution_count": 49,
   "metadata": {},
   "outputs": [],
   "source": [
    "from tqdm import tqdm\n",
    "\n",
    "def calc_val_loss(model, val_loader, criterion):\n",
    "    '''Calculate the validation loss for the specified model validation data and loss function'''\n",
    "    val_loss = 0\n",
    "    # Loop thru the validation data while not computing the gradient\n",
    "    with torch.no_grad():\n",
    "        for data, target in val_loader:\n",
    "            output = model(data)\n",
    "            val_loss += criterion(output, target).item()\n",
    "\n",
    "    val_loss /= len(val_loader)\n",
    "    return val_loss\n",
    "\n",
    "def calc_val_accuracy(model, val_loader, criterion):\n",
    "    '''Calculate the validation loss for the specified model validation data and loss function'''\n",
    "    correct = 0\n",
    "    total = 0\n",
    "    val_loss = 0\n",
    "    # Loop thru the validation data while not computing the gradient\n",
    "    with torch.no_grad():\n",
    "        for data, target in val_loader:\n",
    "            output = model(data)\n",
    "            _,predicted = torch.max(output,1)\n",
    "            total += target.size(0)\n",
    "            correct += (predicted == target).sum().item()\n",
    "            val_loss += criterion(output, target).item()\n",
    "\n",
    "    accuracy = 100 * correct / total\n",
    "    return accuracy\n",
    "\n",
    "\n",
    "def forward_backward_propagation(model, train_loader, optimizer, criterion):\n",
    "    '''Perfom forward and backward propagation'''\n",
    "    for data, labels in train_loader:\n",
    "        optimizer.zero_grad()\n",
    "        outputs = model(data)\n",
    "        loss = criterion(outputs, labels)\n",
    "        loss.backward()\n",
    "        optimizer.step()\n",
    "\n",
    "\n",
    "def train_model(model, train_loader, val_loader, epochs, criterion, optimizer):\n",
    "    '''Perfom training loop over the specified parameters'''\n",
    "    for epoch in tqdm(range(epochs)):  # Adjust the number of epochs as needed\n",
    "        \n",
    "        model.train()\n",
    "        \n",
    "        forward_backward_propagation(model, train_loader, optimizer, criterion)\n",
    "        \n",
    "        model.eval()\n",
    "        \n",
    "        # Calculate the loss with the validation set\n",
    "        val_accuracy = calc_val_accuracy(model, val_loader, criterion)\n",
    "        print(f'Validation accuracy in  epoch {epoch+1}: {val_accuracy:.4f} %')\n",
    "        \n",
    "    return val_accuracy"
   ]
  },
  {
   "cell_type": "markdown",
   "metadata": {},
   "source": [
    "## Final Training Implementation\n",
    "\n",
    "Below is the **final training implementation**, which integrates the previously defined functions. These functions streamline the process and ensure the training pipeline is clean and organized."
   ]
  },
  {
   "cell_type": "code",
   "execution_count": null,
   "metadata": {},
   "outputs": [
    {
     "name": "stdout",
     "output_type": "stream",
     "text": [
      "\n",
      "Fold 1:\n"
     ]
    },
    {
     "name": "stderr",
     "output_type": "stream",
     "text": [
      " 20%|██        | 1/5 [00:03<00:12,  3.23s/it]"
     ]
    },
    {
     "name": "stdout",
     "output_type": "stream",
     "text": [
      "Validation accuracy in  epoch 1: 85.6667 %\n"
     ]
    },
    {
     "name": "stderr",
     "output_type": "stream",
     "text": [
      " 40%|████      | 2/5 [00:06<00:09,  3.20s/it]"
     ]
    },
    {
     "name": "stdout",
     "output_type": "stream",
     "text": [
      "Validation accuracy in  epoch 2: 89.7667 %\n"
     ]
    },
    {
     "name": "stderr",
     "output_type": "stream",
     "text": [
      " 60%|██████    | 3/5 [00:09<00:06,  3.29s/it]"
     ]
    },
    {
     "name": "stdout",
     "output_type": "stream",
     "text": [
      "Validation accuracy in  epoch 3: 89.5000 %\n"
     ]
    },
    {
     "name": "stderr",
     "output_type": "stream",
     "text": [
      " 80%|████████  | 4/5 [00:13<00:03,  3.33s/it]"
     ]
    },
    {
     "name": "stdout",
     "output_type": "stream",
     "text": [
      "Validation accuracy in  epoch 4: 89.7333 %\n"
     ]
    },
    {
     "name": "stderr",
     "output_type": "stream",
     "text": [
      "100%|██████████| 5/5 [00:16<00:00,  3.32s/it]\n"
     ]
    },
    {
     "name": "stdout",
     "output_type": "stream",
     "text": [
      "Validation accuracy in  epoch 5: 91.5000 %\n",
      "Fold 1 completed with Validation accuracy: 91.5000 %\n",
      "\n",
      "\n",
      "Fold 2:\n"
     ]
    },
    {
     "name": "stderr",
     "output_type": "stream",
     "text": [
      " 20%|██        | 1/5 [00:03<00:12,  3.15s/it]"
     ]
    },
    {
     "name": "stdout",
     "output_type": "stream",
     "text": [
      "Validation accuracy in  epoch 1: 85.9667 %\n"
     ]
    },
    {
     "name": "stderr",
     "output_type": "stream",
     "text": [
      " 40%|████      | 2/5 [00:06<00:09,  3.18s/it]"
     ]
    },
    {
     "name": "stdout",
     "output_type": "stream",
     "text": [
      "Validation accuracy in  epoch 2: 89.0333 %\n"
     ]
    },
    {
     "name": "stderr",
     "output_type": "stream",
     "text": [
      " 60%|██████    | 3/5 [00:09<00:06,  3.30s/it]"
     ]
    },
    {
     "name": "stdout",
     "output_type": "stream",
     "text": [
      "Validation accuracy in  epoch 3: 89.9000 %\n"
     ]
    },
    {
     "name": "stderr",
     "output_type": "stream",
     "text": [
      " 80%|████████  | 4/5 [00:13<00:03,  3.36s/it]"
     ]
    },
    {
     "name": "stdout",
     "output_type": "stream",
     "text": [
      "Validation accuracy in  epoch 4: 90.5333 %\n"
     ]
    },
    {
     "name": "stderr",
     "output_type": "stream",
     "text": [
      "100%|██████████| 5/5 [00:16<00:00,  3.34s/it]\n"
     ]
    },
    {
     "name": "stdout",
     "output_type": "stream",
     "text": [
      "Validation accuracy in  epoch 5: 90.9667 %\n",
      "Fold 2 completed with Validation accuracy: 90.9667 %\n",
      "\n",
      "\n",
      "Fold 3:\n"
     ]
    },
    {
     "name": "stderr",
     "output_type": "stream",
     "text": [
      " 20%|██        | 1/5 [00:03<00:12,  3.13s/it]"
     ]
    },
    {
     "name": "stdout",
     "output_type": "stream",
     "text": [
      "Validation accuracy in  epoch 1: 85.1333 %\n"
     ]
    },
    {
     "name": "stderr",
     "output_type": "stream",
     "text": [
      " 40%|████      | 2/5 [00:06<00:09,  3.15s/it]"
     ]
    },
    {
     "name": "stdout",
     "output_type": "stream",
     "text": [
      "Validation accuracy in  epoch 2: 88.8667 %\n"
     ]
    },
    {
     "name": "stderr",
     "output_type": "stream",
     "text": [
      " 60%|██████    | 3/5 [00:09<00:06,  3.32s/it]"
     ]
    },
    {
     "name": "stdout",
     "output_type": "stream",
     "text": [
      "Validation accuracy in  epoch 3: 90.3333 %\n"
     ]
    },
    {
     "name": "stderr",
     "output_type": "stream",
     "text": [
      " 80%|████████  | 4/5 [00:13<00:03,  3.37s/it]"
     ]
    },
    {
     "name": "stdout",
     "output_type": "stream",
     "text": [
      "Validation accuracy in  epoch 4: 89.4000 %\n"
     ]
    },
    {
     "name": "stderr",
     "output_type": "stream",
     "text": [
      "100%|██████████| 5/5 [00:16<00:00,  3.34s/it]\n"
     ]
    },
    {
     "name": "stdout",
     "output_type": "stream",
     "text": [
      "Validation accuracy in  epoch 5: 91.1667 %\n",
      "Fold 3 completed with Validation accuracy: 91.1667 %\n",
      "\n",
      "\n",
      "Fold 4:\n"
     ]
    },
    {
     "name": "stderr",
     "output_type": "stream",
     "text": [
      " 20%|██        | 1/5 [00:03<00:12,  3.15s/it]"
     ]
    },
    {
     "name": "stdout",
     "output_type": "stream",
     "text": [
      "Validation accuracy in  epoch 1: 86.0667 %\n"
     ]
    },
    {
     "name": "stderr",
     "output_type": "stream",
     "text": [
      " 40%|████      | 2/5 [00:06<00:09,  3.17s/it]"
     ]
    },
    {
     "name": "stdout",
     "output_type": "stream",
     "text": [
      "Validation accuracy in  epoch 2: 88.5333 %\n"
     ]
    },
    {
     "name": "stderr",
     "output_type": "stream",
     "text": [
      " 60%|██████    | 3/5 [00:09<00:06,  3.26s/it]"
     ]
    },
    {
     "name": "stdout",
     "output_type": "stream",
     "text": [
      "Validation accuracy in  epoch 3: 89.6667 %\n"
     ]
    },
    {
     "name": "stderr",
     "output_type": "stream",
     "text": [
      " 80%|████████  | 4/5 [00:13<00:03,  3.31s/it]"
     ]
    },
    {
     "name": "stdout",
     "output_type": "stream",
     "text": [
      "Validation accuracy in  epoch 4: 90.4000 %\n"
     ]
    },
    {
     "name": "stderr",
     "output_type": "stream",
     "text": [
      "100%|██████████| 5/5 [00:16<00:00,  3.29s/it]\n"
     ]
    },
    {
     "name": "stdout",
     "output_type": "stream",
     "text": [
      "Validation accuracy in  epoch 5: 91.3000 %\n",
      "Fold 4 completed with Validation accuracy: 91.3000 %\n",
      "\n",
      "\n",
      "Fold 5:\n"
     ]
    },
    {
     "name": "stderr",
     "output_type": "stream",
     "text": [
      " 20%|██        | 1/5 [00:03<00:12,  3.15s/it]"
     ]
    },
    {
     "name": "stdout",
     "output_type": "stream",
     "text": [
      "Validation accuracy in  epoch 1: 86.1000 %\n"
     ]
    },
    {
     "name": "stderr",
     "output_type": "stream",
     "text": [
      " 40%|████      | 2/5 [00:06<00:09,  3.18s/it]"
     ]
    },
    {
     "name": "stdout",
     "output_type": "stream",
     "text": [
      "Validation accuracy in  epoch 2: 89.5333 %\n"
     ]
    },
    {
     "name": "stderr",
     "output_type": "stream",
     "text": [
      " 60%|██████    | 3/5 [00:09<00:06,  3.26s/it]"
     ]
    },
    {
     "name": "stdout",
     "output_type": "stream",
     "text": [
      "Validation accuracy in  epoch 3: 90.4667 %\n"
     ]
    },
    {
     "name": "stderr",
     "output_type": "stream",
     "text": [
      " 80%|████████  | 4/5 [00:13<00:03,  3.29s/it]"
     ]
    },
    {
     "name": "stdout",
     "output_type": "stream",
     "text": [
      "Validation accuracy in  epoch 4: 91.2667 %\n"
     ]
    },
    {
     "name": "stderr",
     "output_type": "stream",
     "text": [
      "100%|██████████| 5/5 [00:16<00:00,  3.30s/it]"
     ]
    },
    {
     "name": "stdout",
     "output_type": "stream",
     "text": [
      "Validation accuracy in  epoch 5: 91.8000 %\n",
      "Fold 5 completed with Validation accuracy: 91.8000 %\n",
      "\n"
     ]
    },
    {
     "name": "stderr",
     "output_type": "stream",
     "text": [
      "\n"
     ]
    }
   ],
   "source": [
    "\n",
    "from sklearn.model_selection import StratifiedKFold\n",
    "import torch.optim as optim\n",
    "\n",
    "\n",
    "folds = 5\n",
    "kf = StratifiedKFold(n_splits=folds, shuffle=True, random_state=11)\n",
    "val_accuracies = []\n",
    "#Specify loss function and optimizer\n",
    "criterion = nn.CrossEntropyLoss()\n",
    "epochs = 5\n",
    "\n",
    "#Loop thrue the k folds of f fold cross validation \n",
    "for fold, (train_idx, val_idx) in enumerate(kf.split(train_dataset,training_labels)):\n",
    "    print(f'\\nFold {fold + 1}:')\n",
    "\n",
    "    train_loader = DataLoader(Subset(train_dataset, train_idx), batch_size=32, shuffle=True)\n",
    "    val_loader = DataLoader(Subset(train_dataset, val_idx), batch_size=32, shuffle=False)\n",
    "\n",
    "    # Initialize the model and optimizer\n",
    "    model = SimpleCNN()\n",
    "    optimizer = optim.Adam(model.parameters(), lr=0.001)\n",
    "    # Training loop runs for every epoch\n",
    "    val_accuracy = train_model(model, train_loader, val_loader, epochs, criterion, optimizer)\n",
    "    val_accuracies.append(val_accuracy)    \n",
    "    print(f\"Fold {fold+1} completed with Validation accuracy: {val_accuracy:.4f} %\\n\")"
   ]
  },
  {
   "cell_type": "code",
   "execution_count": 52,
   "metadata": {},
   "outputs": [
    {
     "name": "stdout",
     "output_type": "stream",
     "text": [
      "Average Validation accuracy across 5 folds: 91.3467 %\n"
     ]
    }
   ],
   "source": [
    "import numpy as np\n",
    "\n",
    "average_val_loss = np.mean(val_accuracies)\n",
    "print(f\"Average Validation accuracy across {5} folds: {average_val_loss:.4f} %\")"
   ]
  }
 ],
 "metadata": {
  "kernelspec": {
   "display_name": "base",
   "language": "python",
   "name": "python3"
  },
  "language_info": {
   "codemirror_mode": {
    "name": "ipython",
    "version": 3
   },
   "file_extension": ".py",
   "mimetype": "text/x-python",
   "name": "python",
   "nbconvert_exporter": "python",
   "pygments_lexer": "ipython3",
   "version": "3.11.5"
  }
 },
 "nbformat": 4,
 "nbformat_minor": 2
}
